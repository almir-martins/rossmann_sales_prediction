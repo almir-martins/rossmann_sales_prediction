{
 "cells": [
  {
   "cell_type": "markdown",
   "metadata": {},
   "source": [
    "# 0.0. IMPORTS"
   ]
  },
  {
   "cell_type": "code",
   "execution_count": 131,
   "metadata": {},
   "outputs": [],
   "source": [
    "import pandas as pd\n",
    "import inflection\n",
    "import math\n",
    "import numpy as np\n",
    "import seaborn as sns\n",
    "from IPython.core.display import HTML\n",
    "import matplotlib.pyplot as plt"
   ]
  },
  {
   "cell_type": "markdown",
   "metadata": {},
   "source": [
    "## 0.1. HELPER FUNCTIONS"
   ]
  },
  {
   "cell_type": "code",
   "execution_count": 132,
   "metadata": {},
   "outputs": [
    {
     "data": {
      "text/html": [
       "<style>.conteiner{width:100% !important;}</style>"
      ],
      "text/plain": [
       "<IPython.core.display.HTML object>"
      ]
     },
     "metadata": {},
     "output_type": "display_data"
    }
   ],
   "source": [
    "# Configura os gráficos\n",
    "# def jupyter_settings():\n",
    "%matplotlib inline\n",
    "\n",
    "plt.style.use('bmh')\n",
    "plt.rcParams['figure.figsize'] = [25, 12]\n",
    "plt.rcParams['font.size'] = 24\n",
    "\n",
    "display(HTML('<style>.conteiner{width:100% !important;}</style>'))\n",
    "\n",
    "pd.options.display.max_columns = None\n",
    "pd.options.display.max_rows = None\n",
    "pd.set_option('display.expand_frame_repr', False)\n",
    "# configura o pandas para quantidade de casas decimeis\n",
    "pd.set_option('display.float_format', lambda x: '%.2f' % x)\n",
    "\n",
    "sns.set()"
   ]
  },
  {
   "cell_type": "markdown",
   "metadata": {},
   "source": [
    "## 0.2. LOADING DATA"
   ]
  },
  {
   "cell_type": "code",
   "execution_count": 133,
   "metadata": {},
   "outputs": [],
   "source": [
    "df_sales_raw = pd.read_csv('../data/train.csv', low_memory=False)\n",
    "df_store_raw = pd.read_csv('../data/store.csv', low_memory=False)\n",
    "df_raw = pd.merge(df_sales_raw, df_store_raw, on='Store', how='left')"
   ]
  },
  {
   "cell_type": "markdown",
   "metadata": {},
   "source": [
    "# 1.0. DESCRIÇÃO DOS DADOS"
   ]
  },
  {
   "cell_type": "code",
   "execution_count": 134,
   "metadata": {},
   "outputs": [],
   "source": [
    "df1 = df_raw.copy()"
   ]
  },
  {
   "cell_type": "markdown",
   "metadata": {},
   "source": [
    "## 1.1. Rename Columns"
   ]
  },
  {
   "cell_type": "code",
   "execution_count": 135,
   "metadata": {},
   "outputs": [],
   "source": [
    "# colunas originais do dataset pego com ctrl-c no columns\n",
    "col_old = [\"Store\", \"DayOfWeek\", \"Date\", \"Sales\", \"Customers\", \"Open\", \"Promo\", \"StateHoliday\",\n",
    "            \"SchoolHoliday\", \"StoreType\", \"Assortment\", \"CompetitionDistance\", \"CompetitionOpenSinceMonth\",\n",
    "            \"CompetitionOpenSinceYear\", \"Promo2\", \"Promo2SinceWeek\", \"Promo2SinceYear\", \"PromoInterval\",]\n",
    "\n",
    "#snake_case = lambda x: inflection.underscore(x)\n",
    "# Usando a função underscore da biblioteca inflection para substituir camelCase por snake_case\n",
    "col_new = list(map(lambda x: inflection.underscore(x), col_old))\n",
    "\n",
    "df1.columns = col_new"
   ]
  },
  {
   "cell_type": "markdown",
   "metadata": {},
   "source": [
    "## 1.2. Data Dimensions"
   ]
  },
  {
   "cell_type": "code",
   "execution_count": 136,
   "metadata": {},
   "outputs": [
    {
     "name": "stdout",
     "output_type": "stream",
     "text": [
      "Number of lines: 1017209\n",
      "Number of columns: 18\n"
     ]
    }
   ],
   "source": [
    "print(f'Number of lines: {df1.shape[0]}')\n",
    "print(f'Number of columns: {df1.shape[1]}')"
   ]
  },
  {
   "cell_type": "markdown",
   "metadata": {},
   "source": [
    "## 1.3. Data Types"
   ]
  },
  {
   "cell_type": "code",
   "execution_count": 137,
   "metadata": {},
   "outputs": [
    {
     "data": {
      "text/plain": [
       "store                                    int64\n",
       "day_of_week                              int64\n",
       "date                            datetime64[ns]\n",
       "sales                                    int64\n",
       "customers                                int64\n",
       "open                                     int64\n",
       "promo                                    int64\n",
       "state_holiday                           object\n",
       "school_holiday                           int64\n",
       "store_type                              object\n",
       "assortment                              object\n",
       "competition_distance                   float64\n",
       "competition_open_since_month           float64\n",
       "competition_open_since_year            float64\n",
       "promo2                                   int64\n",
       "promo2_since_week                      float64\n",
       "promo2_since_year                      float64\n",
       "promo_interval                          object\n",
       "dtype: object"
      ]
     },
     "execution_count": 137,
     "metadata": {},
     "output_type": "execute_result"
    }
   ],
   "source": [
    "df1['date'] = pd.to_datetime(df1['date'])\n",
    "df1.dtypes"
   ]
  },
  {
   "cell_type": "markdown",
   "metadata": {},
   "source": [
    "## 1.4. Check NA"
   ]
  },
  {
   "cell_type": "code",
   "execution_count": 138,
   "metadata": {},
   "outputs": [
    {
     "data": {
      "text/plain": [
       "store                                0\n",
       "day_of_week                          0\n",
       "date                                 0\n",
       "sales                                0\n",
       "customers                            0\n",
       "open                                 0\n",
       "promo                                0\n",
       "state_holiday                        0\n",
       "school_holiday                       0\n",
       "store_type                           0\n",
       "assortment                           0\n",
       "competition_distance              2642\n",
       "competition_open_since_month    323348\n",
       "competition_open_since_year     323348\n",
       "promo2                               0\n",
       "promo2_since_week               508031\n",
       "promo2_since_year               508031\n",
       "promo_interval                  508031\n",
       "dtype: int64"
      ]
     },
     "execution_count": 138,
     "metadata": {},
     "output_type": "execute_result"
    }
   ],
   "source": [
    "df1.isna().sum()"
   ]
  },
  {
   "cell_type": "markdown",
   "metadata": {},
   "source": [
    "## 1.5. FILLOUT NA"
   ]
  },
  {
   "cell_type": "code",
   "execution_count": 139,
   "metadata": {},
   "outputs": [],
   "source": [
    "# Preenchendo valores falntantes de competition_distance\n",
    "df1[\"competition_distance\"] = df1[\"competition_distance\"].apply(\n",
    "    lambda x: 200000 if math.isnan(x) else x\n",
    ")\n",
    "\n",
    "# Preenchendo valores falntantes de competition_open_since_month\n",
    "df1[\"competition_open_since_month\"] = df1.apply(\n",
    "    lambda x: x[\"date\"].month\n",
    "    if math.isnan(x[\"competition_open_since_month\"])\n",
    "    else x[\"competition_open_since_month\"],\n",
    "    axis=1,\n",
    ")\n",
    "\n",
    "# Preenchendo valores falntantes de competition_open_since_year\n",
    "df1[\"competition_open_since_year\"] = df1.apply(\n",
    "    lambda x: x[\"date\"].year\n",
    "    if math.isnan(x[\"competition_open_since_year\"])\n",
    "    else x[\"competition_open_since_year\"],\n",
    "    axis=1,\n",
    ")\n",
    "\n",
    "# Preenchendo valores falntantes de promo2_since_week\n",
    "df1[\"promo2_since_week\"] = df1.apply(\n",
    "    lambda x: x[\"date\"].week\n",
    "    if math.isnan(x[\"promo2_since_week\"])\n",
    "    else x[\"promo2_since_week\"],\n",
    "    axis=1,\n",
    ")\n",
    "\n",
    "# Preenchendo valores falntantes de promo2_since_year\n",
    "df1[\"promo2_since_year\"] = df1.apply(\n",
    "    lambda x: x[\"date\"].year\n",
    "    if math.isnan(x[\"promo2_since_year\"])\n",
    "    else x[\"promo2_since_year\"],\n",
    "    axis=1,\n",
    ")\n",
    "\n",
    "# Preenchendo valores falntantes de promo_interval\n",
    "# Criando um dicionário para auxiliar\n",
    "# Na aula foi usado Fevereiro == Fev e Setembro == Sep mas\n",
    "# no dataset está Fevereiro == Feb e Setembro == Sept\n",
    "month_map = {\n",
    "    1: \"Jan\", 2: \"Fev\", 3: \"Mar\", 4: \"Apr\", 5: \"May\", 6: \"Jun\",\n",
    "    7: \"Jul\", 8: \"Aug\", 9: \"Sep\", 10: \"Oct\", 11: \"Nov\", 12: \"Dec\",\n",
    "}\n",
    "# Completa com zeros os valores faltantes\n",
    "df1['promo_interval'].fillna(0, inplace=True)\n",
    "# Coluna que recebe o mês (num) de df['date'] convertido para a sigla\n",
    "df1['month_map'] = df1['date'].dt.month.map(month_map)\n",
    "# Recebe 1 caso o mês de month_map esteja em promo_interval caso contrário 0\n",
    "df1['is_promo'] = df1.apply(\n",
    "    lambda x: 0 if x['promo_interval'] == 0 \n",
    "    else 1 if x['month_map'] in x['promo_interval'].split(',') \n",
    "    else 0, \n",
    "    axis=1)"
   ]
  },
  {
   "cell_type": "markdown",
   "metadata": {},
   "source": [
    "## 1.6. Change Types"
   ]
  },
  {
   "cell_type": "code",
   "execution_count": 140,
   "metadata": {},
   "outputs": [],
   "source": [
    "# Alterando os tipos de dados\n",
    "df1['competition_open_since_month'] = df1['competition_open_since_month'].astype('int64')\n",
    "df1['competition_open_since_year'] = df1['competition_open_since_year'].astype('int64')\n",
    "df1['promo2_since_week'] = df1['promo2_since_week'].astype('int64')\n",
    "df1['promo2_since_year'] = df1['promo2_since_year'].astype('int64')"
   ]
  },
  {
   "cell_type": "markdown",
   "metadata": {},
   "source": [
    "## 1.7. Descriptive Statistical"
   ]
  },
  {
   "cell_type": "code",
   "execution_count": 141,
   "metadata": {},
   "outputs": [],
   "source": [
    "# Separando os atributos entre numéricos e categóricos\n",
    "numerical_attributes = df1.select_dtypes(include=['int64', 'float64'])\n",
    "categorical_attributes = df1.select_dtypes(exclude=['int64', 'float64', 'datetime64[ns]'])"
   ]
  },
  {
   "cell_type": "markdown",
   "metadata": {},
   "source": [
    "## 1.7.1 Numerical Attributes"
   ]
  },
  {
   "cell_type": "code",
   "execution_count": 142,
   "metadata": {},
   "outputs": [],
   "source": [
    "# Central tendency - mean, median\n",
    "media = pd.DataFrame(numerical_attributes.apply(np.mean)).T\n",
    "mediana = pd.DataFrame(numerical_attributes.apply(np.median)).T\n",
    "\n",
    "# Dispersion - std, min, max, range, skew, kurtosis\n",
    "dev_pad = pd.DataFrame(numerical_attributes.apply(np.std)).T\n",
    "minimo = pd.DataFrame(numerical_attributes.apply(min)).T\n",
    "maximo = pd.DataFrame(numerical_attributes.apply(max)).T\n",
    "rang = pd.DataFrame(numerical_attributes.apply(lambda x: x.max() - x.min())).T\n",
    "skew = pd.DataFrame(numerical_attributes.apply(lambda x: x.skew())).T\n",
    "kurtosis = pd.DataFrame(numerical_attributes.apply(lambda x: x.kurtosis())).T\n",
    "\n",
    "# Concatenate\n",
    "metrics = pd.concat([minimo, maximo, rang, media, mediana, dev_pad, skew, kurtosis]).T.reset_index()\n",
    "metrics.columns = ['attributes', 'minimo', 'maximo', 'rang', 'media', 'mediana', 'dev_pad', 'skew', 'kurtosis']"
   ]
  },
  {
   "cell_type": "code",
   "execution_count": 143,
   "metadata": {},
   "outputs": [
    {
     "data": {
      "text/html": [
       "<div>\n",
       "<style scoped>\n",
       "    .dataframe tbody tr th:only-of-type {\n",
       "        vertical-align: middle;\n",
       "    }\n",
       "\n",
       "    .dataframe tbody tr th {\n",
       "        vertical-align: top;\n",
       "    }\n",
       "\n",
       "    .dataframe thead th {\n",
       "        text-align: right;\n",
       "    }\n",
       "</style>\n",
       "<table border=\"1\" class=\"dataframe\">\n",
       "  <thead>\n",
       "    <tr style=\"text-align: right;\">\n",
       "      <th></th>\n",
       "      <th>attributes</th>\n",
       "      <th>minimo</th>\n",
       "      <th>maximo</th>\n",
       "      <th>rang</th>\n",
       "      <th>media</th>\n",
       "      <th>mediana</th>\n",
       "      <th>dev_pad</th>\n",
       "      <th>skew</th>\n",
       "      <th>kurtosis</th>\n",
       "    </tr>\n",
       "  </thead>\n",
       "  <tbody>\n",
       "    <tr>\n",
       "      <th>0</th>\n",
       "      <td>store</td>\n",
       "      <td>1.00</td>\n",
       "      <td>1115.00</td>\n",
       "      <td>1114.00</td>\n",
       "      <td>558.43</td>\n",
       "      <td>558.00</td>\n",
       "      <td>321.91</td>\n",
       "      <td>-0.00</td>\n",
       "      <td>-1.20</td>\n",
       "    </tr>\n",
       "    <tr>\n",
       "      <th>1</th>\n",
       "      <td>day_of_week</td>\n",
       "      <td>1.00</td>\n",
       "      <td>7.00</td>\n",
       "      <td>6.00</td>\n",
       "      <td>4.00</td>\n",
       "      <td>4.00</td>\n",
       "      <td>2.00</td>\n",
       "      <td>0.00</td>\n",
       "      <td>-1.25</td>\n",
       "    </tr>\n",
       "    <tr>\n",
       "      <th>2</th>\n",
       "      <td>sales</td>\n",
       "      <td>0.00</td>\n",
       "      <td>41551.00</td>\n",
       "      <td>41551.00</td>\n",
       "      <td>5773.82</td>\n",
       "      <td>5744.00</td>\n",
       "      <td>3849.92</td>\n",
       "      <td>0.64</td>\n",
       "      <td>1.78</td>\n",
       "    </tr>\n",
       "    <tr>\n",
       "      <th>3</th>\n",
       "      <td>customers</td>\n",
       "      <td>0.00</td>\n",
       "      <td>7388.00</td>\n",
       "      <td>7388.00</td>\n",
       "      <td>633.15</td>\n",
       "      <td>609.00</td>\n",
       "      <td>464.41</td>\n",
       "      <td>1.60</td>\n",
       "      <td>7.09</td>\n",
       "    </tr>\n",
       "    <tr>\n",
       "      <th>4</th>\n",
       "      <td>open</td>\n",
       "      <td>0.00</td>\n",
       "      <td>1.00</td>\n",
       "      <td>1.00</td>\n",
       "      <td>0.83</td>\n",
       "      <td>1.00</td>\n",
       "      <td>0.38</td>\n",
       "      <td>-1.76</td>\n",
       "      <td>1.09</td>\n",
       "    </tr>\n",
       "    <tr>\n",
       "      <th>5</th>\n",
       "      <td>promo</td>\n",
       "      <td>0.00</td>\n",
       "      <td>1.00</td>\n",
       "      <td>1.00</td>\n",
       "      <td>0.38</td>\n",
       "      <td>0.00</td>\n",
       "      <td>0.49</td>\n",
       "      <td>0.49</td>\n",
       "      <td>-1.76</td>\n",
       "    </tr>\n",
       "    <tr>\n",
       "      <th>6</th>\n",
       "      <td>school_holiday</td>\n",
       "      <td>0.00</td>\n",
       "      <td>1.00</td>\n",
       "      <td>1.00</td>\n",
       "      <td>0.18</td>\n",
       "      <td>0.00</td>\n",
       "      <td>0.38</td>\n",
       "      <td>1.68</td>\n",
       "      <td>0.82</td>\n",
       "    </tr>\n",
       "    <tr>\n",
       "      <th>7</th>\n",
       "      <td>competition_distance</td>\n",
       "      <td>20.00</td>\n",
       "      <td>200000.00</td>\n",
       "      <td>199980.00</td>\n",
       "      <td>5935.44</td>\n",
       "      <td>2330.00</td>\n",
       "      <td>12547.65</td>\n",
       "      <td>10.24</td>\n",
       "      <td>147.79</td>\n",
       "    </tr>\n",
       "    <tr>\n",
       "      <th>8</th>\n",
       "      <td>competition_open_since_month</td>\n",
       "      <td>1.00</td>\n",
       "      <td>12.00</td>\n",
       "      <td>11.00</td>\n",
       "      <td>6.79</td>\n",
       "      <td>7.00</td>\n",
       "      <td>3.31</td>\n",
       "      <td>-0.04</td>\n",
       "      <td>-1.23</td>\n",
       "    </tr>\n",
       "    <tr>\n",
       "      <th>9</th>\n",
       "      <td>competition_open_since_year</td>\n",
       "      <td>1900.00</td>\n",
       "      <td>2015.00</td>\n",
       "      <td>115.00</td>\n",
       "      <td>2010.32</td>\n",
       "      <td>2012.00</td>\n",
       "      <td>5.52</td>\n",
       "      <td>-7.24</td>\n",
       "      <td>124.07</td>\n",
       "    </tr>\n",
       "    <tr>\n",
       "      <th>10</th>\n",
       "      <td>promo2</td>\n",
       "      <td>0.00</td>\n",
       "      <td>1.00</td>\n",
       "      <td>1.00</td>\n",
       "      <td>0.50</td>\n",
       "      <td>1.00</td>\n",
       "      <td>0.50</td>\n",
       "      <td>-0.00</td>\n",
       "      <td>-2.00</td>\n",
       "    </tr>\n",
       "    <tr>\n",
       "      <th>11</th>\n",
       "      <td>promo2_since_week</td>\n",
       "      <td>1.00</td>\n",
       "      <td>52.00</td>\n",
       "      <td>51.00</td>\n",
       "      <td>23.62</td>\n",
       "      <td>22.00</td>\n",
       "      <td>14.31</td>\n",
       "      <td>0.18</td>\n",
       "      <td>-1.18</td>\n",
       "    </tr>\n",
       "    <tr>\n",
       "      <th>12</th>\n",
       "      <td>promo2_since_year</td>\n",
       "      <td>2009.00</td>\n",
       "      <td>2015.00</td>\n",
       "      <td>6.00</td>\n",
       "      <td>2012.79</td>\n",
       "      <td>2013.00</td>\n",
       "      <td>1.66</td>\n",
       "      <td>-0.78</td>\n",
       "      <td>-0.21</td>\n",
       "    </tr>\n",
       "    <tr>\n",
       "      <th>13</th>\n",
       "      <td>is_promo</td>\n",
       "      <td>0.00</td>\n",
       "      <td>1.00</td>\n",
       "      <td>1.00</td>\n",
       "      <td>0.16</td>\n",
       "      <td>0.00</td>\n",
       "      <td>0.36</td>\n",
       "      <td>1.90</td>\n",
       "      <td>1.63</td>\n",
       "    </tr>\n",
       "  </tbody>\n",
       "</table>\n",
       "</div>"
      ],
      "text/plain": [
       "                      attributes  minimo    maximo      rang   media  mediana  dev_pad  skew  kurtosis\n",
       "0                          store    1.00   1115.00   1114.00  558.43   558.00   321.91 -0.00     -1.20\n",
       "1                    day_of_week    1.00      7.00      6.00    4.00     4.00     2.00  0.00     -1.25\n",
       "2                          sales    0.00  41551.00  41551.00 5773.82  5744.00  3849.92  0.64      1.78\n",
       "3                      customers    0.00   7388.00   7388.00  633.15   609.00   464.41  1.60      7.09\n",
       "4                           open    0.00      1.00      1.00    0.83     1.00     0.38 -1.76      1.09\n",
       "5                          promo    0.00      1.00      1.00    0.38     0.00     0.49  0.49     -1.76\n",
       "6                 school_holiday    0.00      1.00      1.00    0.18     0.00     0.38  1.68      0.82\n",
       "7           competition_distance   20.00 200000.00 199980.00 5935.44  2330.00 12547.65 10.24    147.79\n",
       "8   competition_open_since_month    1.00     12.00     11.00    6.79     7.00     3.31 -0.04     -1.23\n",
       "9    competition_open_since_year 1900.00   2015.00    115.00 2010.32  2012.00     5.52 -7.24    124.07\n",
       "10                        promo2    0.00      1.00      1.00    0.50     1.00     0.50 -0.00     -2.00\n",
       "11             promo2_since_week    1.00     52.00     51.00   23.62    22.00    14.31  0.18     -1.18\n",
       "12             promo2_since_year 2009.00   2015.00      6.00 2012.79  2013.00     1.66 -0.78     -0.21\n",
       "13                      is_promo    0.00      1.00      1.00    0.16     0.00     0.36  1.90      1.63"
      ]
     },
     "execution_count": 143,
     "metadata": {},
     "output_type": "execute_result"
    }
   ],
   "source": [
    "metrics"
   ]
  },
  {
   "cell_type": "code",
   "execution_count": 144,
   "metadata": {},
   "outputs": [
    {
     "name": "stderr",
     "output_type": "stream",
     "text": [
      "c:\\Users\\Baby\\Documents\\Python\\repos\\ds_em_producao\\lib\\site-packages\\seaborn\\distributions.py:2619: FutureWarning: `distplot` is a deprecated function and will be removed in a future version. Please adapt your code to use either `displot` (a figure-level function with similar flexibility) or `histplot` (an axes-level function for histograms).\n",
      "  warnings.warn(msg, FutureWarning)\n"
     ]
    },
    {
     "data": {
      "text/plain": [
       "<AxesSubplot:xlabel='sales', ylabel='Density'>"
      ]
     },
     "execution_count": 144,
     "metadata": {},
     "output_type": "execute_result"
    },
    {
     "data": {
      "image/png": "[encoded data removed]",
      "text/plain": [
       "<Figure size 1800x864 with 1 Axes>"
      ]
     },
     "metadata": {},
     "output_type": "display_data"
    }
   ],
   "source": [
    "sns.distplot(df1['sales'])"
   ]
  },
  {
   "cell_type": "markdown",
   "metadata": {},
   "source": []
  },
  {
   "cell_type": "markdown",
   "metadata": {},
   "source": [
    "## 1.7.2 Categorical Attributes"
   ]
  },
  {
   "cell_type": "code",
   "execution_count": 145,
   "metadata": {},
   "outputs": [
    {
     "data": {
      "text/plain": [
       "state_holiday      4\n",
       "store_type         4\n",
       "assortment         3\n",
       "promo_interval     4\n",
       "month_map         12\n",
       "dtype: int64"
      ]
     },
     "execution_count": 145,
     "metadata": {},
     "output_type": "execute_result"
    }
   ],
   "source": [
    "categorical_attributes.apply(lambda x: x.unique().shape[0])"
   ]
  },
  {
   "cell_type": "code",
   "execution_count": 148,
   "metadata": {},
   "outputs": [
    {
     "data": {
      "text/plain": [
       "<AxesSubplot:xlabel='assortment', ylabel='sales'>"
      ]
     },
     "execution_count": 148,
     "metadata": {},
     "output_type": "execute_result"
    },
    {
     "data": {
      "image/png": "[encoded data removed]",
      "text/plain": [
       "<Figure size 1800x864 with 3 Axes>"
      ]
     },
     "metadata": {},
     "output_type": "display_data"
    }
   ],
   "source": [
    "aux = df1[(df1['state_holiday'] != 0) & (df1['sales'] > 0)]\n",
    "# sns.boxplot(x='state_holiday', y='sales', data=aux)\n",
    "\n",
    "plt.subplot(1, 3, 1)\n",
    "sns.boxplot(x='state_holiday', y='sales', data=aux)\n",
    "\n",
    "plt.subplot(1, 3, 2)\n",
    "sns.boxplot(x='store_type', y='sales', data=aux)\n",
    "\n",
    "plt.subplot(1, 3, 3)\n",
    "sns.boxplot(x='assortment', y='sales', data=aux)"
   ]
  },
  {
   "cell_type": "code",
   "execution_count": 153,
   "metadata": {},
   "outputs": [
    {
     "data": {
      "text/plain": [
       "0    986159\n",
       "a     20260\n",
       "b      6690\n",
       "c      4100\n",
       "Name: state_holiday, dtype: int64"
      ]
     },
     "execution_count": 153,
     "metadata": {},
     "output_type": "execute_result"
    }
   ],
   "source": [
    "df1['state_holiday'].value_counts()\n"
   ]
  }
 ],
 "metadata": {
  "interpreter": {
   "hash": "56c4c1e79f103e4841af8008239f5bd876a6c51acee6835a625032a7e230bb6b"
  },
  "kernelspec": {
   "display_name": "Python 3.9.11 64-bit (windows store)",
   "language": "python",
   "name": "python3"
  },
  "language_info": {
   "codemirror_mode": {
    "name": "ipython",
    "version": 3
   },
   "file_extension": ".py",
   "mimetype": "text/x-python",
   "name": "python",
   "nbconvert_exporter": "python",
   "pygments_lexer": "ipython3",
   "version": "3.8.12"
  },
  "orig_nbformat": 4
 },
 "nbformat": 4,
 "nbformat_minor": 2
}
